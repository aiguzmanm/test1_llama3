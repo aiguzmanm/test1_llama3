{
 "cells": [
  {
   "cell_type": "code",
   "execution_count": null,
   "metadata": {},
   "outputs": [],
   "source": [
    "print(\"prueba 1\")\n",
    "Print(\"Prueba3\")\n",
    "\n",
    "print(\"proebas nuevas quejas\")"
   ]
  }
 ],
 "metadata": {
  "language_info": {
   "name": "python"
  }
 },
 "nbformat": 4,
 "nbformat_minor": 2
}

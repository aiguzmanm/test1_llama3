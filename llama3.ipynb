{
 "cells": [
  {
   "cell_type": "code",
   "execution_count": 1,
   "metadata": {},
   "outputs": [],
   "source": [
    "from transformers import AutoTokenizer, AutoModelForCausalLM\n",
    "\n",
    "# Carga del modelo\n",
    "tokenizer = AutoTokenizer.from_pretrained(\"meta-llama/LLaMA-3-7B\")\n",
    "model = AutoModelForCausalLM.from_pretrained(\"meta-llama/LLaMA-3-7B\")\n",
    "\n",
    "print(\"Modelo cargado exitosamente\")\n",
    "\n",
    "print(\"Escribe tu pregunta y presiona Enter para obtener una respuesta:\")\n"
   ]
  },
  {
   "cell_type": "code",
   "execution_count": null,
   "metadata": {},
   "outputs": [],
   "source": []
  }
 ],
 "metadata": {
  "kernelspec": {
   "display_name": "Python 3",
   "language": "python",
   "name": "python3"
  },
  "language_info": {
   "codemirror_mode": {
    "name": "ipython",
    "version": 3
   },
   "file_extension": ".py",
   "mimetype": "text/x-python",
   "name": "python",
   "nbconvert_exporter": "python",
   "pygments_lexer": "ipython3",
   "version": "3.10.9"
  }
 },
 "nbformat": 4,
 "nbformat_minor": 2
}

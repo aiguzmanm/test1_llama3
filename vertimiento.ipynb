{
 "cells": [
  {
   "cell_type": "code",
   "execution_count": 3,
   "metadata": {},
   "outputs": [
    {
     "name": "stdout",
     "output_type": "stream",
     "text": [
      "vertimiento\n",
      "nuevos vertimientos\n"
     ]
    }
   ],
   "source": [
    "print(\"vertimiento\")\n",
    "\n",
    "print(\"nuevos vertimientos\")\n",
    "\n",
    "print(\"nuevos vertimientos3\")\n",
    "\n",
    "print(\"nuevos vertimientos4\")\n",
    "\n",
    "print(\"nuevos vertimientos5\")\n",
    "\n",
    "\n",
    "print(\"esto está en el branch de desarrollo\")"
   ]
  },
  {
   "cell_type": "code",
   "execution_count": null,
   "metadata": {},
   "outputs": [],
   "source": []
  }
 ],
 "metadata": {
  "kernelspec": {
   "display_name": "Python 3",
   "language": "python",
   "name": "python3"
  },
  "language_info": {
   "name": "python",
   "version": "3.10.9"
  }
 },
 "nbformat": 4,
 "nbformat_minor": 2
}

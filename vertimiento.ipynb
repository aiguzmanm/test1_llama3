{
 "cells": [
  {
   "cell_type": "code",
   "execution_count": 3,
   "metadata": {},
   "outputs": [
    {
     "name": "stdout",
     "output_type": "stream",
     "text": [
      "vertimiento\n",
      "nuevos vertimientos\n"
     ]
    }
   ],
   "source": [
    "print(\"vertimiento\")\n",
    "\n",
    "print(\"nuevos vertimientos\")\n",
    "\n",
    "print(\"nuevos vertimientos3\")\n",
    "\n",
    "print(\"nuevos vertimientos4\")\n",
    "\n",
    "print(\"nuevos vertimientos5\")"
   ]
  },
  {
   "cell_type": "code",
   "execution_count": null,
   "metadata": {},
   "outputs": [],
   "source": []
  }
 ],
 "metadata": {
  "language_info": {
   "name": "python"
  }
 },
 "nbformat": 4,
 "nbformat_minor": 2
}
